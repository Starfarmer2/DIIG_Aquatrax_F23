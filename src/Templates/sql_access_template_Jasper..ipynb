{
 "cells": [
  {
   "cell_type": "code",
   "execution_count": 1,
   "metadata": {},
   "outputs": [],
   "source": [
    "import pandas as pd\n",
    "from sqlalchemy import create_engine\n",
    "from sqlalchemy import URL"
   ]
  },
  {
   "cell_type": "code",
   "execution_count": 2,
   "metadata": {},
   "outputs": [
    {
     "name": "stderr",
     "output_type": "stream",
     "text": [
      "/var/folders/4c/z8zyjh415_s24ch63vqd34z80000gn/T/ipykernel_64552/4130741480.py:9: SAWarning: No driver name specified; this is expected by PyODBC when using DSN-less connections\n",
      "  engine = create_engine(url_object)\n"
     ]
    }
   ],
   "source": [
    "url_object = URL.create(\n",
    "    \"mssql+pyodbc\",\n",
    "    username=\"Duke\",\n",
    "    password=\"Duke@1234\",  # plain (unescaped) text\n",
    "    host=\"209.209.40.90,19841\",\n",
    "    database=\"AquaTrax_Usage\",\n",
    ")\n",
    "\n",
    "engine = create_engine(url_object)"
   ]
  },
  {
   "cell_type": "code",
   "execution_count": 4,
   "metadata": {},
   "outputs": [
    {
     "name": "stdout",
     "output_type": "stream",
     "text": [
      "   HourlyUsageId  AccountNumber           Usagedate  Value  Consumed  \\\n",
      "0      184296228  3950220-27171 2022-10-05 20:00:00    0.0       0.0   \n",
      "\n",
      "       Meternumber StartDateTime ReadingDateTime RatePlanDetailId MeterRead  \n",
      "0  3950220-10450-1          None            None             None      None  \n"
     ]
    }
   ],
   "source": [
    "import pyodbc\n",
    "import pandas as pd\n",
    "# Some other example server values are\n",
    "# server = 'localhost\\sqlexpress' # for a named instance\n",
    "# server = 'myserver,port' # to specify an alternate port\n",
    "server = '209.209.40.90,19841' \n",
    "database = 'AquaTrax_Usage' \n",
    "username = 'Duke' \n",
    "password = 'Duke@1234'  \n",
    "cnxn = pyodbc.connect('DRIVER={ODBC Driver 18 for SQL Server};SERVER='+server+';DATABASE='+database+';UID='+username+';PWD='+ password+';TrustServerCertificate=yes;')\n",
    "cursor = cnxn.cursor()\n",
    "# select 26 rows from SQL table to insert in dataframe.\n",
    "query = \"SELECT * FROM Waterhourlyusage WHERE AccountNumber='3950220-27171' AND Usagedate='2022-10-05 20:00:00.000'\"\n",
    "df = pd.read_sql(query, cnxn)\n",
    "print(df.head(26))"
   ]
  },
  {
   "cell_type": "code",
   "execution_count": null,
   "metadata": {},
   "outputs": [],
   "source": []
  }
 ],
 "metadata": {
  "kernelspec": {
   "display_name": "Python 3",
   "language": "python",
   "name": "python3"
  },
  "language_info": {
   "codemirror_mode": {
    "name": "ipython",
    "version": 3
   },
   "file_extension": ".py",
   "mimetype": "text/x-python",
   "name": "python",
   "nbconvert_exporter": "python",
   "pygments_lexer": "ipython3",
   "version": "3.9.12"
  }
 },
 "nbformat": 4,
 "nbformat_minor": 2
}
